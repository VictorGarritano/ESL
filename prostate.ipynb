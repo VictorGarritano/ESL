{
 "cells": [
  {
   "cell_type": "code",
   "execution_count": 1,
   "metadata": {
    "collapsed": false
   },
   "outputs": [],
   "source": [
    "import numpy as np\n",
    "import pandas as pd\n",
    "from sklearn.preprocessing import scale\n",
    "import seaborn as sns\n",
    "import matplotlib.pyplot as plt\n",
    "from string import letters\n",
    "from sklearn import linear_model\n",
    "from sklearn.decomposition import PCA"
   ]
  },
  {
   "cell_type": "code",
   "execution_count": 2,
   "metadata": {
    "collapsed": false
   },
   "outputs": [],
   "source": [
    "data = pd.read_csv('prostate.csv')"
   ]
  },
  {
   "cell_type": "code",
   "execution_count": 3,
   "metadata": {
    "collapsed": false
   },
   "outputs": [
    {
     "name": "stderr",
     "output_type": "stream",
     "text": [
      "/usr/local/lib/python2.7/dist-packages/sklearn/utils/validation.py:429: DataConversionWarning: Data with input dtype int64 was converted to float64 by the scale function.\n",
      "  warnings.warn(msg, _DataConversionWarning)\n"
     ]
    }
   ],
   "source": [
    "data[['lcavol', \n",
    "      'lweight', \n",
    "      'age', 'lbph', 'svi', 'lcp', 'gleason', 'pgg45', 'lpsa']] = data[['lcavol', \n",
    "      'lweight', \n",
    "      'age', 'lbph', 'svi', 'lcp', 'gleason', 'pgg45', 'lpsa']].apply(lambda x: scale(x))\n",
    "data['train'] = data['train'].map({'T': 1, 'F': 0})\n",
    "train = data[data['train'] == 1]\n",
    "test = data[data['train'] == 0]"
   ]
  },
  {
   "cell_type": "code",
   "execution_count": 4,
   "metadata": {
    "collapsed": true
   },
   "outputs": [],
   "source": [
    "train_X = train.drop(['id', 'lpsa', 'train'],1)\n",
    "train_y = train[['lpsa']]"
   ]
  },
  {
   "cell_type": "code",
   "execution_count": 5,
   "metadata": {
    "collapsed": true
   },
   "outputs": [],
   "source": [
    "test_X = test.drop(['id', 'lpsa', 'train'], 1)\n",
    "test_y = test[['lpsa']]"
   ]
  },
  {
   "cell_type": "code",
   "execution_count": 6,
   "metadata": {
    "collapsed": false,
    "scrolled": false
   },
   "outputs": [
    {
     "data": {
      "image/png": "[encoded data removed]",
      "text/plain": [
       "<matplotlib.figure.Figure at 0x7ff6e65a81d0>"
      ]
     },
     "metadata": {},
     "output_type": "display_data"
    }
   ],
   "source": [
    "corr = train_X.corr()\n",
    "\n",
    "# Generate a mask for the upper triangle\n",
    "mask = np.zeros_like(corr, dtype=np.bool)\n",
    "mask[np.triu_indices_from(mask)] = True\n",
    "\n",
    "# Set up the matplotlib figure\n",
    "f, ax = plt.subplots(figsize=(11, 9))\n",
    "\n",
    "# Generate a custom diverging colormap\n",
    "cmap = sns.diverging_palette(220, 10, as_cmap=True)\n",
    "\n",
    "# Draw the heatmap with the mask and correct aspect ratio\n",
    "sns.heatmap(corr, mask=mask, cmap=cmap, vmax=.3,\n",
    "            square=True,\n",
    "            linewidths=.5, cbar_kws={\"shrink\": .5}, ax=ax)\n",
    "\n",
    "sns.plt.show()"
   ]
  },
  {
   "cell_type": "code",
   "execution_count": 7,
   "metadata": {
    "collapsed": false
   },
   "outputs": [
    {
     "name": "stdout",
     "output_type": "stream",
     "text": [
      "Linear Regression coef_:\n",
      "[[ 0.58867801  0.22788395 -0.12255156  0.18205082  0.26439653 -0.24992247\n",
      "  -0.01845664  0.23126487]]\n",
      "\n",
      "Linear Regression intercept_:\n",
      "[-0.01171576]\n"
     ]
    }
   ],
   "source": [
    "regr = linear_model.LinearRegression()\n",
    "regr.fit(train_X, train_y)\n",
    "print(\"Linear Regression coef_:\")\n",
    "print regr.coef_\n",
    "print(\"\\nLinear Regression intercept_:\")\n",
    "print regr.intercept_"
   ]
  },
  {
   "cell_type": "code",
   "execution_count": 8,
   "metadata": {
    "collapsed": false
   },
   "outputs": [
    {
     "name": "stdout",
     "output_type": "stream",
     "text": [
      "Mean squared error: 0.3953\n"
     ]
    }
   ],
   "source": [
    "print(\"Mean squared error: %.4f\"\n",
    "      % np.mean((regr.predict(test_X) - test_y) ** 2))"
   ]
  },
  {
   "cell_type": "code",
   "execution_count": 9,
   "metadata": {
    "collapsed": false
   },
   "outputs": [
    {
     "name": "stdout",
     "output_type": "stream",
     "text": [
      "Ridge Regression coef_:\n",
      "[[ 0.56906083  0.22786378 -0.11672946  0.17991419  0.25906171 -0.22303664\n",
      "  -0.01049205  0.21589929]]\n",
      "\n",
      "Ridge Regression intercept_:\n",
      "[-0.01102372]\n"
     ]
    }
   ],
   "source": [
    "regr1 = linear_model.Ridge()\n",
    "regr1.fit(train_X, train_y)\n",
    "print(\"Ridge Regression coef_:\")\n",
    "print regr1.coef_\n",
    "print(\"\\nRidge Regression intercept_:\")\n",
    "print regr1.intercept_"
   ]
  },
  {
   "cell_type": "code",
   "execution_count": 10,
   "metadata": {
    "collapsed": false,
    "scrolled": true
   },
   "outputs": [
    {
     "name": "stdout",
     "output_type": "stream",
     "text": [
      "Mean squared error: 0.3888\n"
     ]
    }
   ],
   "source": [
    "print(\"Mean squared error: %.4f\"\n",
    "      % np.mean((regr1.predict(test_X) - test_y) ** 2))"
   ]
  },
  {
   "cell_type": "code",
   "execution_count": null,
   "metadata": {
    "collapsed": true
   },
   "outputs": [],
   "source": []
  }
 ],
 "metadata": {
  "kernelspec": {
   "display_name": "Python 2",
   "language": "python",
   "name": "python2"
  },
  "language_info": {
   "codemirror_mode": {
    "name": "ipython",
    "version": 2
   },
   "file_extension": ".py",
   "mimetype": "text/x-python",
   "name": "python",
   "nbconvert_exporter": "python",
   "pygments_lexer": "ipython2",
   "version": "2.7.12"
  }
 },
 "nbformat": 4,
 "nbformat_minor": 2
}
